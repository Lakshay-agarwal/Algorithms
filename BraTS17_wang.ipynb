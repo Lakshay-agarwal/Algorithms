{
  "nbformat": 4,
  "nbformat_minor": 0,
  "metadata": {
    "colab": {
      "name": "BraTS17_wang.ipynb",
      "provenance": [],
      "collapsed_sections": [],
      "authorship_tag": "ABX9TyOX6eNziewnauSWfp80f3l9",
      "include_colab_link": true
    },
    "kernelspec": {
      "name": "python3",
      "display_name": "Python 3"
    },
    "accelerator": "GPU"
  },
  "cells": [
    {
      "cell_type": "markdown",
      "metadata": {
        "id": "view-in-github",
        "colab_type": "text"
      },
      "source": [
        "<a href=\"https://colab.research.google.com/github/Lakshay-agarwal/Algorithms/blob/master/BraTS17_wang.ipynb\" target=\"_parent\"><img src=\"https://colab.research.google.com/assets/colab-badge.svg\" alt=\"Open In Colab\"/></a>"
      ]
    },
    {
      "cell_type": "code",
      "metadata": {
        "id": "7iRmm05f3rQ5",
        "outputId": "54bd1aed-ee74-423b-aabd-9b2140295e9f",
        "colab": {
          "base_uri": "https://localhost:8080/",
          "height": 34
        }
      },
      "source": [
        "from google.colab import drive\n",
        "drive.mount('/gdrive')\n",
        "\n"
      ],
      "execution_count": null,
      "outputs": [
        {
          "output_type": "stream",
          "text": [
            "Mounted at /gdrive\n"
          ],
          "name": "stdout"
        }
      ]
    },
    {
      "cell_type": "code",
      "metadata": {
        "id": "67KFB-ee32it"
      },
      "source": [
        "import zipfile  # For faster extraction\n",
        "dataset_path = \"/gdrive/My Drive/BraTS/brats15/SMIR_20200921_191255.zip\"  # Replace with your dataset path\n",
        "zfile = zipfile.ZipFile(dataset_path)\n",
        "zfile.extractall()\n"
      ],
      "execution_count": null,
      "outputs": []
    },
    {
      "cell_type": "code",
      "metadata": {
        "id": "mvAE_cZ-exkZ"
      },
      "source": [
        "import zipfile  # For faster extraction\n",
        "dataset_path = \"/gdrive/My Drive/BraTS/brats15/SMIR_20200921_211710.zip\"  # Replace with your dataset path\n",
        "zfile = zipfile.ZipFile(dataset_path)\n",
        "zfile.extractall()"
      ],
      "execution_count": null,
      "outputs": []
    },
    {
      "cell_type": "code",
      "metadata": {
        "id": "VFMWNYcHfPh1",
        "outputId": "d79aa8be-ab3b-47bf-bf8d-ac9b6f5e7535",
        "colab": {
          "base_uri": "https://localhost:8080/",
          "height": 101
        }
      },
      "source": [
        "!git clone https://github.com/Lakshay-agarwal/brats17.git"
      ],
      "execution_count": null,
      "outputs": [
        {
          "output_type": "stream",
          "text": [
            "Cloning into 'brats17'...\n",
            "remote: Enumerating objects: 507, done.\u001b[K\n",
            "remote: Total 507 (delta 0), reused 0 (delta 0), pack-reused 507\u001b[K\n",
            "Receiving objects: 100% (507/507), 44.75 MiB | 8.66 MiB/s, done.\n",
            "Resolving deltas: 100% (316/316), done.\n"
          ],
          "name": "stdout"
        }
      ]
    },
    {
      "cell_type": "code",
      "metadata": {
        "id": "ck5ujLS54_5y",
        "outputId": "7effbf98-c1f7-4476-8c3f-25e629e5a3b3",
        "colab": {
          "base_uri": "https://localhost:8080/",
          "height": 1000
        }
      },
      "source": [
        "!pip install tensorflow==1.4.0\n",
        "!pip install niftynet==0.2.0\n",
        "!pip install simpleitk"
      ],
      "execution_count": null,
      "outputs": [
        {
          "output_type": "stream",
          "text": [
            "Collecting tensorflow==1.4.0\n",
            "\u001b[?25l  Downloading https://files.pythonhosted.org/packages/86/9f/be0165c6eefd841e6928e54d3d083fa174f92d640fdc52f73a33dc9c54d1/tensorflow-1.4.0-cp36-cp36m-manylinux1_x86_64.whl (41.2MB)\n",
            "\u001b[K     |████████████████████████████████| 41.2MB 76kB/s \n",
            "\u001b[?25hRequirement already satisfied: protobuf>=3.3.0 in /usr/local/lib/python3.6/dist-packages (from tensorflow==1.4.0) (3.12.4)\n",
            "Requirement already satisfied: numpy>=1.12.1 in /usr/local/lib/python3.6/dist-packages (from tensorflow==1.4.0) (1.18.5)\n",
            "Collecting enum34>=1.1.6\n",
            "  Downloading https://files.pythonhosted.org/packages/63/f6/ccb1c83687756aeabbf3ca0f213508fcfb03883ff200d201b3a4c60cedcc/enum34-1.1.10-py3-none-any.whl\n",
            "Requirement already satisfied: six>=1.10.0 in /usr/local/lib/python3.6/dist-packages (from tensorflow==1.4.0) (1.15.0)\n",
            "Collecting tensorflow-tensorboard<0.5.0,>=0.4.0rc1\n",
            "\u001b[?25l  Downloading https://files.pythonhosted.org/packages/e9/9f/5845c18f9df5e7ea638ecf3a272238f0e7671e454faa396b5188c6e6fc0a/tensorflow_tensorboard-0.4.0-py3-none-any.whl (1.7MB)\n",
            "\u001b[K     |████████████████████████████████| 1.7MB 45.0MB/s \n",
            "\u001b[?25hRequirement already satisfied: wheel>=0.26 in /usr/local/lib/python3.6/dist-packages (from tensorflow==1.4.0) (0.35.1)\n",
            "Requirement already satisfied: setuptools in /usr/local/lib/python3.6/dist-packages (from protobuf>=3.3.0->tensorflow==1.4.0) (50.3.0)\n",
            "Collecting bleach==1.5.0\n",
            "  Downloading https://files.pythonhosted.org/packages/33/70/86c5fec937ea4964184d4d6c4f0b9551564f821e1c3575907639036d9b90/bleach-1.5.0-py2.py3-none-any.whl\n",
            "Collecting html5lib==0.9999999\n",
            "\u001b[?25l  Downloading https://files.pythonhosted.org/packages/ae/ae/bcb60402c60932b32dfaf19bb53870b29eda2cd17551ba5639219fb5ebf9/html5lib-0.9999999.tar.gz (889kB)\n",
            "\u001b[K     |████████████████████████████████| 890kB 46.9MB/s \n",
            "\u001b[?25hRequirement already satisfied: werkzeug>=0.11.10 in /usr/local/lib/python3.6/dist-packages (from tensorflow-tensorboard<0.5.0,>=0.4.0rc1->tensorflow==1.4.0) (1.0.1)\n",
            "Requirement already satisfied: markdown>=2.6.8 in /usr/local/lib/python3.6/dist-packages (from tensorflow-tensorboard<0.5.0,>=0.4.0rc1->tensorflow==1.4.0) (3.2.2)\n",
            "Requirement already satisfied: importlib-metadata; python_version < \"3.8\" in /usr/local/lib/python3.6/dist-packages (from markdown>=2.6.8->tensorflow-tensorboard<0.5.0,>=0.4.0rc1->tensorflow==1.4.0) (2.0.0)\n",
            "Requirement already satisfied: zipp>=0.5 in /usr/local/lib/python3.6/dist-packages (from importlib-metadata; python_version < \"3.8\"->markdown>=2.6.8->tensorflow-tensorboard<0.5.0,>=0.4.0rc1->tensorflow==1.4.0) (3.2.0)\n",
            "Building wheels for collected packages: html5lib\n",
            "  Building wheel for html5lib (setup.py) ... \u001b[?25l\u001b[?25hdone\n",
            "  Created wheel for html5lib: filename=html5lib-0.9999999-cp36-none-any.whl size=107220 sha256=c5be266e5e309513f407c98627c682c8a78b15823f59af8557c9e924b6366cb5\n",
            "  Stored in directory: /root/.cache/pip/wheels/50/ae/f9/d2b189788efcf61d1ee0e36045476735c838898eef1cad6e29\n",
            "Successfully built html5lib\n",
            "Installing collected packages: enum34, html5lib, bleach, tensorflow-tensorboard, tensorflow\n",
            "  Found existing installation: html5lib 1.0.1\n",
            "    Uninstalling html5lib-1.0.1:\n",
            "      Successfully uninstalled html5lib-1.0.1\n",
            "  Found existing installation: bleach 3.2.1\n",
            "    Uninstalling bleach-3.2.1:\n",
            "      Successfully uninstalled bleach-3.2.1\n",
            "  Found existing installation: tensorflow 2.3.0\n",
            "    Uninstalling tensorflow-2.3.0:\n",
            "      Successfully uninstalled tensorflow-2.3.0\n",
            "Successfully installed bleach-1.5.0 enum34-1.1.10 html5lib-0.9999999 tensorflow-1.4.0 tensorflow-tensorboard-0.4.0\n"
          ],
          "name": "stdout"
        },
        {
          "output_type": "display_data",
          "data": {
            "application/vnd.colab-display-data+json": {
              "pip_warning": {
                "packages": [
                  "enum"
                ]
              }
            }
          },
          "metadata": {
            "tags": []
          }
        },
        {
          "output_type": "stream",
          "text": [
            "Collecting niftynet==0.2.0\n",
            "\u001b[?25l  Downloading https://files.pythonhosted.org/packages/f6/1f/18d08cb77cf7405be1527136713353ebce92272f18009d5aa056d3e10c36/NiftyNet-0.2.0-py2.py3-none-any.whl (186kB)\n",
            "\r\u001b[K     |█▊                              | 10kB 18.8MB/s eta 0:00:01\r\u001b[K     |███▌                            | 20kB 25.6MB/s eta 0:00:01\r\u001b[K     |█████▎                          | 30kB 31.0MB/s eta 0:00:01\r\u001b[K     |███████                         | 40kB 33.7MB/s eta 0:00:01\r\u001b[K     |████████▉                       | 51kB 16.1MB/s eta 0:00:01\r\u001b[K     |██████████▌                     | 61kB 13.7MB/s eta 0:00:01\r\u001b[K     |████████████▎                   | 71kB 13.1MB/s eta 0:00:01\r\u001b[K     |██████████████                  | 81kB 13.0MB/s eta 0:00:01\r\u001b[K     |███████████████▉                | 92kB 12.5MB/s eta 0:00:01\r\u001b[K     |█████████████████▋              | 102kB 12.9MB/s eta 0:00:01\r\u001b[K     |███████████████████▍            | 112kB 12.9MB/s eta 0:00:01\r\u001b[K     |█████████████████████           | 122kB 12.9MB/s eta 0:00:01\r\u001b[K     |██████████████████████▉         | 133kB 12.9MB/s eta 0:00:01\r\u001b[K     |████████████████████████▋       | 143kB 12.9MB/s eta 0:00:01\r\u001b[K     |██████████████████████████▍     | 153kB 12.9MB/s eta 0:00:01\r\u001b[K     |████████████████████████████▏   | 163kB 12.9MB/s eta 0:00:01\r\u001b[K     |██████████████████████████████  | 174kB 12.9MB/s eta 0:00:01\r\u001b[K     |███████████████████████████████▋| 184kB 12.9MB/s eta 0:00:01\r\u001b[K     |████████████████████████████████| 194kB 12.9MB/s \n",
            "\u001b[?25hRequirement already satisfied: pillow in /usr/local/lib/python3.6/dist-packages (from niftynet==0.2.0) (7.0.0)\n",
            "Requirement already satisfied: pandas in /usr/local/lib/python3.6/dist-packages (from niftynet==0.2.0) (1.1.2)\n",
            "Requirement already satisfied: scipy>=0.18 in /usr/local/lib/python3.6/dist-packages (from niftynet==0.2.0) (1.4.1)\n",
            "Requirement already satisfied: numpy>=1.11 in /usr/local/lib/python3.6/dist-packages (from niftynet==0.2.0) (1.18.5)\n",
            "Requirement already satisfied: nibabel>=2.1.0 in /usr/local/lib/python3.6/dist-packages (from niftynet==0.2.0) (3.0.2)\n",
            "Collecting configparser\n",
            "  Downloading https://files.pythonhosted.org/packages/4b/6b/01baa293090240cf0562cc5eccb69c6f5006282127f2b846fad011305c79/configparser-5.0.0-py3-none-any.whl\n",
            "Requirement already satisfied: six>=1.10 in /usr/local/lib/python3.6/dist-packages (from niftynet==0.2.0) (1.15.0)\n",
            "Requirement already satisfied: pytz>=2017.2 in /usr/local/lib/python3.6/dist-packages (from pandas->niftynet==0.2.0) (2018.9)\n",
            "Requirement already satisfied: python-dateutil>=2.7.3 in /usr/local/lib/python3.6/dist-packages (from pandas->niftynet==0.2.0) (2.8.1)\n",
            "Installing collected packages: configparser, niftynet\n",
            "Successfully installed configparser-5.0.0 niftynet-0.2.0\n",
            "Collecting simpleitk\n",
            "\u001b[?25l  Downloading https://files.pythonhosted.org/packages/22/c6/0319c4efabb6e7f5650bbd41e1e5ec5c89ca0e857a9aaf287c29ac8c266c/SimpleITK-2.0.0-cp36-cp36m-manylinux1_x86_64.whl (44.9MB)\n",
            "\u001b[K     |████████████████████████████████| 44.9MB 69kB/s \n",
            "\u001b[?25hInstalling collected packages: simpleitk\n",
            "Successfully installed simpleitk-2.0.0\n"
          ],
          "name": "stdout"
        }
      ]
    },
    {
      "cell_type": "code",
      "metadata": {
        "id": "pBC_OBAPjWrZ",
        "outputId": "2b1bf676-e48d-4f2e-e8d9-14bfb3e23561",
        "colab": {
          "base_uri": "https://localhost:8080/",
          "height": 1000
        }
      },
      "source": [
        "!python /content/brats17/test.py /content/brats17/config15/test_all_class.txt"
      ],
      "execution_count": null,
      "outputs": [
        {
          "output_type": "stream",
          "text": [
            "/usr/local/lib/python3.6/dist-packages/tensorflow/python/framework/dtypes.py:469: FutureWarning: Passing (type, 1) or '1type' as a synonym of type is deprecated; in a future version of numpy, it will be understood as (type, (1,)) / '(1,)type'.\n",
            "  _np_qint8 = np.dtype([(\"qint8\", np.int8, 1)])\n",
            "/usr/local/lib/python3.6/dist-packages/tensorflow/python/framework/dtypes.py:470: FutureWarning: Passing (type, 1) or '1type' as a synonym of type is deprecated; in a future version of numpy, it will be understood as (type, (1,)) / '(1,)type'.\n",
            "  _np_quint8 = np.dtype([(\"quint8\", np.uint8, 1)])\n",
            "/usr/local/lib/python3.6/dist-packages/tensorflow/python/framework/dtypes.py:471: FutureWarning: Passing (type, 1) or '1type' as a synonym of type is deprecated; in a future version of numpy, it will be understood as (type, (1,)) / '(1,)type'.\n",
            "  _np_qint16 = np.dtype([(\"qint16\", np.int16, 1)])\n",
            "/usr/local/lib/python3.6/dist-packages/tensorflow/python/framework/dtypes.py:472: FutureWarning: Passing (type, 1) or '1type' as a synonym of type is deprecated; in a future version of numpy, it will be understood as (type, (1,)) / '(1,)type'.\n",
            "  _np_quint16 = np.dtype([(\"quint16\", np.uint16, 1)])\n",
            "/usr/local/lib/python3.6/dist-packages/tensorflow/python/framework/dtypes.py:473: FutureWarning: Passing (type, 1) or '1type' as a synonym of type is deprecated; in a future version of numpy, it will be understood as (type, (1,)) / '(1,)type'.\n",
            "  _np_qint32 = np.dtype([(\"qint32\", np.int32, 1)])\n",
            "/usr/local/lib/python3.6/dist-packages/tensorflow/python/framework/dtypes.py:476: FutureWarning: Passing (type, 1) or '1type' as a synonym of type is deprecated; in a future version of numpy, it will be understood as (type, (1,)) / '(1,)type'.\n",
            "  np_resource = np.dtype([(\"resource\", np.ubyte, 1)])\n",
            "/usr/lib/python3.6/importlib/_bootstrap.py:219: RuntimeWarning: compiletime version 3.5 of module 'tensorflow.python.framework.fast_tensor_util' does not match runtime version 3.6\n",
            "  return f(*args, **kwds)\n",
            "data data_root /content/Training /content/Training\n",
            "data save_folder /content/brats17/result15 /content/brats17/result15\n",
            "data data_names /content/brats17/config15/test_names_temp.txt /content/brats17/config15/test_names_temp.txt\n",
            "data modality_postfix [Flair, T1, T1c, T2] ['Flair', 'T1', 'T1c', 'T2']\n",
            "data file_postfix mha mha\n",
            "network1ax net_type MSNet MSNet\n",
            "network1ax net_name MSNet_WT32 MSNet_WT32\n",
            "network1ax downsample_twice True True\n",
            "network1ax data_shape [19, 180, 160, 4] [19, 180, 160, 4]\n",
            "network1ax label_shape [11, 180, 160, 1] [11, 180, 160, 1]\n",
            "network1ax class_num 2 2\n",
            "network1ax model_file /content/brats17/model15/msnet_wt32_10000.ckpt /content/brats17/model15/msnet_wt32_10000.ckpt\n",
            "network1sg net_type MSNet MSNet\n",
            "network1sg net_name MSNet_WT32sg MSNet_WT32sg\n",
            "network1sg downsample_twice True True\n",
            "network1sg data_shape [19, 160, 180, 4] [19, 160, 180, 4]\n",
            "network1sg label_shape [11, 160, 180, 1] [11, 160, 180, 1]\n",
            "network1sg class_num 2 2\n",
            "network1sg model_file /content/brats17/model15/msnet_wt32sg_5000.ckpt /content/brats17/model15/msnet_wt32sg_5000.ckpt\n",
            "network1cr net_type MSNet MSNet\n",
            "network1cr net_name MSNet_WT32cr MSNet_WT32cr\n",
            "network1cr downsample_twice True True\n",
            "network1cr data_shape [19, 160, 160, 4] [19, 160, 160, 4]\n",
            "network1cr label_shape [11, 160, 160, 1] [11, 160, 160, 1]\n",
            "network1cr class_num 2 2\n",
            "network1cr model_file /content/brats17/model15/msnet_wt32cr_5000.ckpt /content/brats17/model15/msnet_wt32cr_5000.ckpt\n",
            "network2ax net_type MSNet MSNet\n",
            "network2ax net_name MSNet_TC32 MSNet_TC32\n",
            "network2ax downsample_twice True True\n",
            "network2ax data_shape [19, 96, 96, 4] [19, 96, 96, 4]\n",
            "network2ax label_shape [11, 96, 96, 1] [11, 96, 96, 1]\n",
            "network2ax class_num 2 2\n",
            "network2ax model_file /content/brats17/model15/msnet_tc32_20000.ckpt /content/brats17/model15/msnet_tc32_20000.ckpt\n",
            "network2sg net_type MSNet MSNet\n",
            "network2sg net_name MSNet_TC32sg MSNet_TC32sg\n",
            "network2sg downsample_twice True True\n",
            "network2sg data_shape [19, 96, 96, 4] [19, 96, 96, 4]\n",
            "network2sg label_shape [11, 96, 96, 1] [11, 96, 96, 1]\n",
            "network2sg class_num 2 2\n",
            "network2sg model_file /content/brats17/model15/msnet_tc32sg_5000.ckpt /content/brats17/model15/msnet_tc32sg_5000.ckpt\n",
            "network2cr net_type MSNet MSNet\n",
            "network2cr net_name MSNet_TC32cr MSNet_TC32cr\n",
            "network2cr downsample_twice True True\n",
            "network2cr data_shape [19, 96, 96, 4] [19, 96, 96, 4]\n",
            "network2cr label_shape [11, 96, 96, 1] [11, 96, 96, 1]\n",
            "network2cr class_num 2 2\n",
            "network2cr model_file /content/brats17/model15/msnet_tc32cr_5000.ckpt /content/brats17/model15/msnet_tc32cr_5000.ckpt\n",
            "network3ax net_type MSNet MSNet\n",
            "network3ax net_name MSNet_EN32 MSNet_EN32\n",
            "network3ax downsample_twice False False\n",
            "network3ax data_shape [19, 96, 96, 4] [19, 96, 96, 4]\n",
            "network3ax label_shape [11, 96, 96, 1] [11, 96, 96, 1]\n",
            "network3ax class_num 3 3\n",
            "network3ax model_file /content/brats17/model15/msnet_en32_20000.ckpt /content/brats17/model15/msnet_en32_20000.ckpt\n",
            "network3sg net_type MSNet MSNet\n",
            "network3sg net_name MSNet_EN32sg MSNet_EN32sg\n",
            "network3sg downsample_twice False False\n",
            "network3sg data_shape [19, 96, 96, 4] [19, 96, 96, 4]\n",
            "network3sg label_shape [11, 96, 96, 1] [11, 96, 96, 1]\n",
            "network3sg class_num 3 3\n",
            "network3sg model_file /content/brats17/model15/msnet_en32sg_5000.ckpt /content/brats17/model15/msnet_en32sg_5000.ckpt\n",
            "network3cr net_type MSNet MSNet\n",
            "network3cr net_name MSNet_EN32cr MSNet_EN32cr\n",
            "network3cr downsample_twice False False\n",
            "network3cr data_shape [19, 96, 96, 4] [19, 96, 96, 4]\n",
            "network3cr label_shape [11, 96, 96, 1] [11, 96, 96, 1]\n",
            "network3cr class_num 3 3\n",
            "network3cr model_file /content/brats17/model15/msnet_en32cr_5000.ckpt /content/brats17/model15/msnet_en32cr_5000.ckpt\n",
            "testing test_slice_direction all all\n",
            "2020-10-01 17:28:14.690941: I tensorflow/core/platform/cpu_feature_guard.cc:137] Your CPU supports instructions that this TensorFlow binary was not compiled to use: SSE4.1 SSE4.2 AVX AVX2 FMA\n",
            "Data load, 100.0% finished\n",
            "tcmalloc: large alloc 3151912960 bytes == 0x8f2c0000 @  0x7f00c64461e7 0x7f00b869ad4f 0x7f00b9e3a4e4 0x7f00b9e49e0d 0x7f00b9e4a3ec 0x7f00b9ea6157 0x7f00b9ea6fcb 0x7f00b71beafc 0x7f00b718fa85 0x7f00b717ee10 0x7f00b6e37e22 0x7f00b6e36ed2 0x7f00c4d28a50 0x7f00c5e0a6db 0x7f00c6143a3f\n",
            "tcmalloc: large alloc 3151912960 bytes == 0x77b04000 @  0x7f00c64461e7 0x7f00b869ad4f 0x7f00b9e3a4e4 0x7f00b9e49e0d 0x7f00b9e4a3ec 0x7f00b9ea6157 0x7f00b9ea6fcb 0x7f00b71beafc 0x7f00b718fa85 0x7f00b717ee10 0x7f00b6e37e22 0x7f00b6e36ed2 0x7f00c4d28a50 0x7f00c5e0a6db 0x7f00c6143a3f\n",
            "tcmalloc: large alloc 3151912960 bytes == 0x8c900000 @  0x7f00c64461e7 0x7f00b869ad4f 0x7f00b9e3a4e4 0x7f00b9e49e0d 0x7f00b9e4a3ec 0x7f00b9ea6157 0x7f00b9ea6fcb 0x7f00b71beafc 0x7f00b718fa85 0x7f00b717ee10 0x7f00b6e37e22 0x7f00b6e36ed2 0x7f00c4d28a50 0x7f00c5e0a6db 0x7f00c6143a3f\n",
            "tcmalloc: large alloc 1824776192 bytes == 0x5b12a000 @  0x7f00c64461e7 0x7f00b869ad4f 0x7f00b9e3a4e4 0x7f00b9e49e0d 0x7f00b9e4a3ec 0x7f00b9e4faf0 0x7f00b71beafc 0x7f00b718fa85 0x7f00b717ee10 0x7f00b6e37e22 0x7f00b6e36ed2 0x7f00c4d28a50 0x7f00c5e0a6db 0x7f00c6143a3f\n",
            "tcmalloc: large alloc 3151912960 bytes == 0x95256000 @  0x7f00c64461e7 0x7f00b869ad4f 0x7f00b9e3a4e4 0x7f00b9e49e0d 0x7f00b9e4a3ec 0x7f00b9ea6157 0x7f00b9ea6fcb 0x7f00b71beafc 0x7f00b718fa85 0x7f00b717ee10 0x7f00b6e37e22 0x7f00b6e36ed2 0x7f00c4d28a50 0x7f00c5e0a6db 0x7f00c6143a3f\n",
            "tcmalloc: large alloc 3151912960 bytes == 0x8d516000 @  0x7f00c64461e7 0x7f00b869ad4f 0x7f00b9e3a4e4 0x7f00b9e49e0d 0x7f00b9e4a3ec 0x7f00b9ea6157 0x7f00b9ea6fcb 0x7f00b71beafc 0x7f00b718fa85 0x7f00b717ee10 0x7f00b6e37e22 0x7f00b6e36ed2 0x7f00c4d28a50 0x7f00c5e0a6db 0x7f00c6143a3f\n",
            "tcmalloc: large alloc 3151912960 bytes == 0x7871a000 @  0x7f00c64461e7 0x7f00b869ad4f 0x7f00b9e3a4e4 0x7f00b9e49e0d 0x7f00b9e4a3ec 0x7f00b9ea6157 0x7f00b9ea6fcb 0x7f00b71beafc 0x7f00b718fa85 0x7f00b717ee10 0x7f00b6e37e22 0x7f00b6e36ed2 0x7f00c4d28a50 0x7f00c5e0a6db 0x7f00c6143a3f\n",
            "tcmalloc: large alloc 3151912960 bytes == 0x7e6b0000 @  0x7f00c64461e7 0x7f00b869ad4f 0x7f00b9e3a4e4 0x7f00b9e49e0d 0x7f00b9e4a3ec 0x7f00b9ea6157 0x7f00b9ea6fcb 0x7f00b71beafc 0x7f00b718fa85 0x7f00b717ee10 0x7f00b6e37e22 0x7f00b6e36ed2 0x7f00c4d28a50 0x7f00c5e0a6db 0x7f00c6143a3f\n",
            "tcmalloc: large alloc 3151912960 bytes == 0x7bcf0000 @  0x7f00c64461e7 0x7f00b869ad4f 0x7f00b9e3a4e4 0x7f00b9e49e0d 0x7f00b9e4a3ec 0x7f00b9ea6157 0x7f00b9ea6fcb 0x7f00b71beafc 0x7f00b718fa85 0x7f00b717ee10 0x7f00b6e37e22 0x7f00b6e36ed2 0x7f00c4d28a50 0x7f00c5e0a6db 0x7f00c6143a3f\n",
            "tcmalloc: large alloc 3151912960 bytes == 0x90aec000 @  0x7f00c64461e7 0x7f00b869ad4f 0x7f00b9e3a4e4 0x7f00b9e49e0d 0x7f00b9e4a3ec 0x7f00b9ea6157 0x7f00b9ea6fcb 0x7f00b71beafc 0x7f00b718fa85 0x7f00b717ee10 0x7f00b6e37e22 0x7f00b6e36ed2 0x7f00c4d28a50 0x7f00c5e0a6db 0x7f00c6143a3f\n",
            "HGG/brats_tcia_pat417_0001\n",
            "HGG/brats_tcia_pat205_0001\n",
            "test time 1453.2916514873505\n"
          ],
          "name": "stdout"
        }
      ]
    },
    {
      "cell_type": "code",
      "metadata": {
        "id": "ojHSF_W6vAit",
        "outputId": "4c039069-d7b0-4aac-a9a9-0c0e57a639e3",
        "colab": {
          "base_uri": "https://localhost:8080/",
          "height": 185
        }
      },
      "source": [
        "!python /content/brats17/util/evaluation.py"
      ],
      "execution_count": null,
      "outputs": [
        {
          "output_type": "stream",
          "text": [
            "tissue type whole\n",
            "dice mean   [0.91731338]\n",
            "dice std    [0.02963208]\n",
            "tissue type core\n",
            "dice mean   [0.83686365]\n",
            "dice std    [0.04735791]\n",
            "tissue type all\n",
            "tissue label [1, 2, 3, 4]\n",
            "dice mean   [0.28999032 0.72597749 0.60096221 0.78276219]\n",
            "dice std    [0.27386129 0.04734715 0.07620587 0.09342863]\n"
          ],
          "name": "stdout"
        }
      ]
    },
    {
      "cell_type": "code",
      "metadata": {
        "id": "wR4dbYeKb4aK",
        "outputId": "2f01307f-f3ff-4f8a-9991-93da67bd8cf3",
        "colab": {
          "base_uri": "https://localhost:8080/",
          "height": 34
        }
      },
      "source": [
        "!cd brats17\n",
        "!git push origin master"
      ],
      "execution_count": null,
      "outputs": [
        {
          "output_type": "stream",
          "text": [
            "fatal: not a git repository (or any of the parent directories): .git\n"
          ],
          "name": "stdout"
        }
      ]
    },
    {
      "cell_type": "code",
      "metadata": {
        "id": "dNVHLhlqchQQ",
        "outputId": "da409c95-f751-4863-d0bf-7c92fdb4481d",
        "colab": {
          "base_uri": "https://localhost:8080/",
          "height": 34
        }
      },
      "source": [
        ""
      ],
      "execution_count": null,
      "outputs": [
        {
          "output_type": "stream",
          "text": [
            "brats17  sample_data  Testing  Training\n"
          ],
          "name": "stdout"
        }
      ]
    }
  ]
}